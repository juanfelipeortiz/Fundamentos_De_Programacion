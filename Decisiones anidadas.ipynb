{
 "cells": [
  {
   "cell_type": "markdown",
   "metadata": {},
   "source": [
    "### DECISIONES ANIDADADAS"
   ]
  },
  {
   "cell_type": "code",
   "execution_count": 6,
   "metadata": {},
   "outputs": [
    {
     "name": "stdout",
     "output_type": "stream",
     "text": [
      "Ingrese primer nota3\n",
      "Ingrese segunda nota8\n",
      "Ingrese tercer nota4\n",
      "5.0\n",
      "Regular\n"
     ]
    }
   ],
   "source": [
    "nota1=int(input(\"Ingrese primer nota\"))\n",
    "nota2=int(input(\"Ingrese segunda nota\"))\n",
    "nota3=int(input(\"Ingrese tercer nota\"))\n",
    "prom=(nota1+nota2+nota3)/3\n",
    "\n",
    "print(prom)\n",
    "if prom>=7:\n",
    "    print(\"Promocionado\")\n",
    "else:\n",
    "    if prom>4:\n",
    "        print(\"Regular\")\n",
    "    else:\n",
    "        print(\"Reprobado\")\n",
    "                \n",
    "    \n",
    "        \n",
    "    \n",
    "\n"
   ]
  },
  {
   "cell_type": "code",
   "execution_count": null,
   "metadata": {},
   "outputs": [],
   "source": []
  }
 ],
 "metadata": {
  "kernelspec": {
   "display_name": "Python 3",
   "language": "python",
   "name": "python3"
  },
  "language_info": {
   "codemirror_mode": {
    "name": "ipython",
    "version": 3
   },
   "file_extension": ".py",
   "mimetype": "text/x-python",
   "name": "python",
   "nbconvert_exporter": "python",
   "pygments_lexer": "ipython3",
   "version": "3.7.4"
  }
 },
 "nbformat": 4,
 "nbformat_minor": 2
}
