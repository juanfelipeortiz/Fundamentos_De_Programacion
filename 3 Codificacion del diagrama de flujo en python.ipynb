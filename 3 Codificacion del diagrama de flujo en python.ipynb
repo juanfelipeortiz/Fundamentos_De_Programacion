{
 "cells": [
  {
   "cell_type": "markdown",
   "metadata": {},
   "source": [
    "## 3 Codificacion del diagrama de flujo en python"
   ]
  },
  {
   "cell_type": "code",
   "execution_count": 4,
   "metadata": {},
   "outputs": [
    {
     "name": "stdout",
     "output_type": "stream",
     "text": [
      "Ingrese el lado del cuadrado5\n",
      "La superficie del cuadrado es\n",
      "25\n"
     ]
    }
   ],
   "source": [
    "lado= int(input(\"Ingrese el lado del cuadrado\"))\n",
    "superficie= lado*lado\n",
    "print(\"La superficie del cuadrado es\")\n",
    "print(superficie)"
   ]
  },
  {
   "cell_type": "code",
   "execution_count": null,
   "metadata": {},
   "outputs": [],
   "source": []
  }
 ],
 "metadata": {
  "kernelspec": {
   "display_name": "Python 3",
   "language": "python",
   "name": "python3"
  },
  "language_info": {
   "codemirror_mode": {
    "name": "ipython",
    "version": 3
   },
   "file_extension": ".py",
   "mimetype": "text/x-python",
   "name": "python",
   "nbconvert_exporter": "python",
   "pygments_lexer": "ipython3",
   "version": "3.7.4"
  }
 },
 "nbformat": 4,
 "nbformat_minor": 2
}
