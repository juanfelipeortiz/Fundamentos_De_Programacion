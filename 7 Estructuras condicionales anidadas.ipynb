{
 "cells": [
  {
   "cell_type": "markdown",
   "metadata": {},
   "source": [
    "# Estructuras condicionales anidadas"
   ]
  },
  {
   "cell_type": "markdown",
   "metadata": {},
   "source": [
    "### Ingresar 3 numeros y mostrar cual es el mayor de ellos"
   ]
  },
  {
   "cell_type": "code",
   "execution_count": 33,
   "metadata": {},
   "outputs": [
    {
     "name": "stdout",
     "output_type": "stream",
     "text": [
      "Ingrese el primer valor2\n",
      "Ingrese el primer valor4\n",
      "Ingrese el primer valor9\n",
      "el numero mayor es\n",
      "9\n"
     ]
    }
   ],
   "source": [
    "num1= int(input(\"Ingrese el primer valor\"))\n",
    "num2= int(input(\"Ingrese el primer valor\"))\n",
    "num3= int(input(\"Ingrese el primer valor\"))\n",
    "print (\"el numero mayor es\")\n",
    "if num1>num2>num3 or num1>num3>num2:\n",
    "    print (num1)\n",
    "else:\n",
    "    if num2>num1>num3 or num2>num3>num1:\n",
    "        print(num2)\n",
    "    else:\n",
    "        if num3>num2>num1 or num3>num1>num2:\n",
    "            print(num3)"
   ]
  },
  {
   "cell_type": "markdown",
   "metadata": {},
   "source": [
    "### Ingresar 1 valor entero e indicar si es positivo, negativo o nulo"
   ]
  },
  {
   "cell_type": "code",
   "execution_count": 42,
   "metadata": {},
   "outputs": [
    {
     "name": "stdout",
     "output_type": "stream",
     "text": [
      "Ingrese un valor: 0\n",
      "El numero es\n",
      "Nulo\n"
     ]
    }
   ],
   "source": [
    "num1= int(input(\"Ingrese un valor: \"))\n",
    "print(\"El numero es\")\n",
    "if num1>0:\n",
    "    print(\"positivo\")\n",
    "else:\n",
    "    if num1==0:\n",
    "        print (\"Nulo\")\n",
    "    else:\n",
    "        print(\"Negativo\")\n",
    "            \n",
    "        "
   ]
  },
  {
   "cell_type": "markdown",
   "metadata": {},
   "source": [
    "### ingrsar un numero de hasta 3 cifras e indicar si tiene 1, 2, 3 o mas cifras"
   ]
  },
  {
   "cell_type": "code",
   "execution_count": 56,
   "metadata": {},
   "outputs": [
    {
     "name": "stdout",
     "output_type": "stream",
     "text": [
      "Ingrese un valor: -9999\n",
      "El numero tiene\n",
      "mas de tres cifras\n"
     ]
    }
   ],
   "source": [
    "num1= int(input(\"Ingrese un valor: \"))\n",
    "print(\"El numero tiene\")\n",
    "if num1<10 and num1>-10:\n",
    "    print(\"una cifra\")\n",
    "else:\n",
    "    if num1<100 and num1>-100:\n",
    "        print(\"dos cifras\")\n",
    "    else:\n",
    "        if num1<1000 and num1>-1000:\n",
    "            print (\"tres cifras\")\n",
    "        else:\n",
    "            print(\"mas de tres cifras\")"
   ]
  },
  {
   "cell_type": "markdown",
   "metadata": {},
   "source": [
    "### aaaa"
   ]
  },
  {
   "cell_type": "code",
   "execution_count": 69,
   "metadata": {},
   "outputs": [
    {
     "name": "stdout",
     "output_type": "stream",
     "text": [
      "Ingrese la cantidad de preguntas: 10\n",
      "Ingrese la cantidad de preguntas correctas: 7\n",
      "70.0\n",
      "Nivel regular\n"
     ]
    }
   ],
   "source": [
    "cdepreguntas= int(input(\"Ingrese la cantidad de preguntas: \"))\n",
    "aciertos= int(input(\"Ingrese la cantidad de preguntas correctas: \"))\n",
    "porcentaje= (aciertos*100)/cdepreguntas \n",
    "print(porcentaje)\n",
    "\n",
    "if porcentaje>=90:\n",
    "    print(\"Nivel maximo\")\n",
    "else:\n",
    "    if porcentaje>=75:\n",
    "        print(\"Nivel medio\")\n",
    "    else:\n",
    "        if porcentaje>=50:\n",
    "            print (\"Nivel regular\")\n",
    "        else:\n",
    "            print (\"Fuera de nivel\")\n"
   ]
  },
  {
   "cell_type": "code",
   "execution_count": null,
   "metadata": {},
   "outputs": [],
   "source": []
  }
 ],
 "metadata": {
  "kernelspec": {
   "display_name": "Python 3",
   "language": "python",
   "name": "python3"
  },
  "language_info": {
   "codemirror_mode": {
    "name": "ipython",
    "version": 3
   },
   "file_extension": ".py",
   "mimetype": "text/x-python",
   "name": "python",
   "nbconvert_exporter": "python",
   "pygments_lexer": "ipython3",
   "version": "3.7.4"
  }
 },
 "nbformat": 4,
 "nbformat_minor": 2
}
