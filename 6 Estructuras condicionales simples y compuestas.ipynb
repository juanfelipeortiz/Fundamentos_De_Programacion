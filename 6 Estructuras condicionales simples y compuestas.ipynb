{
 "cells": [
  {
   "cell_type": "markdown",
   "metadata": {},
   "source": [
    "# 6 Estructuras condicionales simples y compuestas"
   ]
  },
  {
   "cell_type": "markdown",
   "metadata": {},
   "source": [
    "### Ingresar el sueldo de una persona, si supera los 3000 dolares mostrar un mensaje indicando que debe abonar impuestos"
   ]
  },
  {
   "cell_type": "code",
   "execution_count": 2,
   "metadata": {},
   "outputs": [
    {
     "name": "stdout",
     "output_type": "stream",
     "text": [
      "Ingrese su sueldo5000\n",
      "Esta persona debe abonar impuestos\n"
     ]
    }
   ],
   "source": [
    "sueldo= int(input(\"Ingrese su sueldo: \"))\n",
    "if sueldo>3000:\n",
    "    print(\"Esta persona debe abonar impuestos\")"
   ]
  },
  {
   "cell_type": "markdown",
   "metadata": {},
   "source": [
    "### Ingresar 2 numeros distintos y mostrar el mayor"
   ]
  },
  {
   "cell_type": "code",
   "execution_count": 6,
   "metadata": {},
   "outputs": [
    {
     "name": "stdout",
     "output_type": "stream",
     "text": [
      "Ingrese el primer valor3\n",
      "Ingrese el primer valor7\n",
      "El numero mayor es\n",
      "7\n"
     ]
    }
   ],
   "source": [
    "num1= int(input(\"Ingrese el primer valor\"))\n",
    "num2= int(input(\"Ingrese el primer valor\"))\n",
    "print(\"El numero mayor es\")\n",
    "if num1>num2:\n",
    "    print (num1)\n",
    "else:\n",
    "        print(num2)\n"
   ]
  },
  {
   "cell_type": "markdown",
   "metadata": {},
   "source": [
    "### Ingresar 2 numeros, si el primero es mayor sumar y  restar ambos, sino hacer el producto y la division del primero respecto al segundo."
   ]
  },
  {
   "cell_type": "code",
   "execution_count": 8,
   "metadata": {},
   "outputs": [
    {
     "name": "stdout",
     "output_type": "stream",
     "text": [
      "Ingrese el primer valor8\n",
      "Ingrese el primer valor3\n",
      "Suma\n",
      "11\n",
      "Resta\n",
      "5\n"
     ]
    }
   ],
   "source": [
    "num1= int(input(\"Ingrese el primer valor\"))\n",
    "num2= int(input(\"Ingrese el primer valor\"))\n",
    "suma= num1+num2\n",
    "resta=num1-num2\n",
    "producto= num1*num2\n",
    "division= num1/num2\n",
    "if num1>num2:\n",
    "    print(\"Suma\")\n",
    "    print(suma)\n",
    "    print(\"Resta\")\n",
    "    print(resta)\n",
    "else:\n",
    "    print(\"Producto\")\n",
    "    print(producto)\n",
    "    print(\"division\")\n",
    "    print(division)\n",
    "    \n",
    "    \n",
    "    "
   ]
  },
  {
   "cell_type": "markdown",
   "metadata": {},
   "source": [
    "### ingresar tres notas de un alumno, si el promedio es mayor o igual a 7 mostrar un mensaje \"Promocionado\"."
   ]
  },
  {
   "cell_type": "code",
   "execution_count": 12,
   "metadata": {},
   "outputs": [
    {
     "name": "stdout",
     "output_type": "stream",
     "text": [
      "Ingrese la primer nota: 8\n",
      "Ingrese la segunda nota: 9\n",
      "Ingrese la tercer nota: 7\n",
      "promocionado\n"
     ]
    }
   ],
   "source": [
    "nota1= int(input(\"Ingrese la primer nota: \"))\n",
    "nota2= int(input(\"Ingrese la segunda nota: \"))\n",
    "nota3= int(input(\"Ingrese la tercer nota: \"))\n",
    "promedio= (nota1+nota2+nota3)/3\n",
    "if promedio >=7:\n",
    "    print(\"promocionado\")\n",
    "    print(\"promedio\")\n",
    "    "
   ]
  },
  {
   "cell_type": "markdown",
   "metadata": {},
   "source": [
    "### Ingresar un numero de 1 o 2 digitos, mostrar un mensaje indicando cuantos digitos tiene"
   ]
  },
  {
   "cell_type": "code",
   "execution_count": 24,
   "metadata": {},
   "outputs": [
    {
     "name": "stdout",
     "output_type": "stream",
     "text": [
      "Ingrese un numero de 1 o 2 digitos: 5312\n",
      "El numero tiene\n",
      "mas de 2 digitos\n"
     ]
    }
   ],
   "source": [
    "num1= int(input(\"Ingrese un numero de 1 o 2 digitos: \"))\n",
    "print(\"El numero tiene\")\n",
    "if num1<10 and num1>-10:\n",
    "    print(\"un digito\")\n",
    "else:\n",
    "    if num1<99 and num1>-99:\n",
    "        print (\"dos digitos\")\n",
    "    else:\n",
    "        print(\"mas de 2 digitos\")"
   ]
  },
  {
   "cell_type": "code",
   "execution_count": null,
   "metadata": {},
   "outputs": [],
   "source": []
  }
 ],
 "metadata": {
  "kernelspec": {
   "display_name": "Python 3",
   "language": "python",
   "name": "python3"
  },
  "language_info": {
   "codemirror_mode": {
    "name": "ipython",
    "version": 3
   },
   "file_extension": ".py",
   "mimetype": "text/x-python",
   "name": "python",
   "nbconvert_exporter": "python",
   "pygments_lexer": "ipython3",
   "version": "3.7.4"
  }
 },
 "nbformat": 4,
 "nbformat_minor": 2
}
