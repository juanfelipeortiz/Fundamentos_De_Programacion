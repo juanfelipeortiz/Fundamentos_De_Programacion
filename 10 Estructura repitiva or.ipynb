{
 "cells": [
  {
   "cell_type": "markdown",
   "metadata": {},
   "source": [
    "### Mostar los numeros de 1 a 100"
   ]
  },
  {
   "cell_type": "code",
   "execution_count": 1,
   "metadata": {},
   "outputs": [
    {
     "name": "stdout",
     "output_type": "stream",
     "text": [
      "0\n",
      "1\n",
      "2\n",
      "3\n",
      "4\n",
      "5\n",
      "6\n",
      "7\n",
      "8\n",
      "9\n",
      "10\n",
      "11\n",
      "12\n",
      "13\n",
      "14\n",
      "15\n",
      "16\n",
      "17\n",
      "18\n",
      "19\n",
      "20\n",
      "21\n",
      "22\n",
      "23\n",
      "24\n",
      "25\n",
      "26\n",
      "27\n",
      "28\n",
      "29\n",
      "30\n",
      "31\n",
      "32\n",
      "33\n",
      "34\n",
      "35\n",
      "36\n",
      "37\n",
      "38\n",
      "39\n",
      "40\n",
      "41\n",
      "42\n",
      "43\n",
      "44\n",
      "45\n",
      "46\n",
      "47\n",
      "48\n",
      "49\n",
      "50\n",
      "51\n",
      "52\n",
      "53\n",
      "54\n",
      "55\n",
      "56\n",
      "57\n",
      "58\n",
      "59\n",
      "60\n",
      "61\n",
      "62\n",
      "63\n",
      "64\n",
      "65\n",
      "66\n",
      "67\n",
      "68\n",
      "69\n",
      "70\n",
      "71\n",
      "72\n",
      "73\n",
      "74\n",
      "75\n",
      "76\n",
      "77\n",
      "78\n",
      "79\n",
      "80\n",
      "81\n",
      "82\n",
      "83\n",
      "84\n",
      "85\n",
      "86\n",
      "87\n",
      "88\n",
      "89\n",
      "90\n",
      "91\n",
      "92\n",
      "93\n",
      "94\n",
      "95\n",
      "96\n",
      "97\n",
      "98\n",
      "99\n",
      "100\n"
     ]
    }
   ],
   "source": [
    "for x in range(101):\n",
    "    print(x)"
   ]
  },
  {
   "cell_type": "markdown",
   "metadata": {},
   "source": [
    "### Imprimir numeros del 20 al 30"
   ]
  },
  {
   "cell_type": "code",
   "execution_count": 2,
   "metadata": {},
   "outputs": [
    {
     "name": "stdout",
     "output_type": "stream",
     "text": [
      "20\n",
      "21\n",
      "22\n",
      "23\n",
      "24\n",
      "25\n",
      "26\n",
      "27\n",
      "28\n",
      "29\n",
      "30\n"
     ]
    }
   ],
   "source": [
    "for x in range(20,31):\n",
    "    print(x)"
   ]
  },
  {
   "cell_type": "markdown",
   "metadata": {},
   "source": [
    "### Mostrar todos los numeros impares del 1 al 100"
   ]
  },
  {
   "cell_type": "code",
   "execution_count": 3,
   "metadata": {},
   "outputs": [
    {
     "name": "stdout",
     "output_type": "stream",
     "text": [
      "1\n",
      "3\n",
      "5\n",
      "7\n",
      "9\n",
      "11\n",
      "13\n",
      "15\n",
      "17\n",
      "19\n",
      "21\n",
      "23\n",
      "25\n",
      "27\n",
      "29\n",
      "31\n",
      "33\n",
      "35\n",
      "37\n",
      "39\n",
      "41\n",
      "43\n",
      "45\n",
      "47\n",
      "49\n",
      "51\n",
      "53\n",
      "55\n",
      "57\n",
      "59\n",
      "61\n",
      "63\n",
      "65\n",
      "67\n",
      "69\n",
      "71\n",
      "73\n",
      "75\n",
      "77\n",
      "79\n",
      "81\n",
      "83\n",
      "85\n",
      "87\n",
      "89\n",
      "91\n",
      "93\n",
      "95\n",
      "97\n",
      "99\n"
     ]
    }
   ],
   "source": [
    "for x in range(1,100,2):\n",
    "    print(x)"
   ]
  },
  {
   "cell_type": "markdown",
   "metadata": {},
   "source": [
    "### Ingresar 10 valores luego mostrar su suma y promedo"
   ]
  },
  {
   "cell_type": "code",
   "execution_count": 1,
   "metadata": {},
   "outputs": [
    {
     "name": "stdout",
     "output_type": "stream",
     "text": [
      "Ingrese valor:5\n",
      "Ingrese valor:9\n",
      "Ingrese valor:8\n",
      "Ingrese valor:7\n",
      "Ingrese valor:2\n",
      "Ingrese valor:3\n",
      "Ingrese valor:6\n",
      "Ingrese valor:5\n",
      "Ingrese valor:4\n",
      "Ingrese valor:8\n",
      "La suma es\n",
      "57\n",
      "El promedio es:\n",
      "5.7\n"
     ]
    }
   ],
   "source": [
    "suma=0\n",
    "for f in range(10):\n",
    "    valor=int(input(\"Ingrese valor:\"))\n",
    "    suma=suma+valor\n",
    "print(\"La suma es\")\n",
    "print(suma)\n",
    "promedio=suma/10\n",
    "print(\"El promedio es:\")\n",
    "print(promedio)"
   ]
  },
  {
   "cell_type": "markdown",
   "metadata": {},
   "source": [
    "### ingresar 10 notas de alumnos y e informar cuántos tienen notas mayores o iguales a 7 y cuantos menores"
   ]
  },
  {
   "cell_type": "code",
   "execution_count": 2,
   "metadata": {},
   "outputs": [
    {
     "name": "stdout",
     "output_type": "stream",
     "text": [
      "Ingrese la nota:9\n",
      "Ingrese la nota:5\n",
      "Ingrese la nota:3\n",
      "Ingrese la nota:1\n",
      "Ingrese la nota:4\n",
      "Ingrese la nota:5\n",
      "Ingrese la nota:8\n",
      "Ingrese la nota:9\n",
      "Ingrese la nota:7\n",
      "Ingrese la nota:8\n",
      "Cantidad de aprobados\n",
      "5\n",
      "Cantidad de reprobados\n",
      "5\n"
     ]
    }
   ],
   "source": [
    "aprobados=0\n",
    "reprobados=0\n",
    "for f in range(10):\n",
    "    nota=int(input(\"Ingrese la nota:\"))\n",
    "    if nota>=7:\n",
    "        aprobados=aprobados+1\n",
    "    else:\n",
    "        reprobados=reprobados+1\n",
    "print(\"Cantidad de aprobados\")\n",
    "print(aprobados)\n",
    "print(\"Cantidad de reprobados\")\n",
    "print(reprobados)"
   ]
  },
  {
   "cell_type": "markdown",
   "metadata": {},
   "source": [
    "### Ingresar 10 valores y luego mostrar cuales son multiplos de 3 y cuantos de 5"
   ]
  },
  {
   "cell_type": "code",
   "execution_count": null,
   "metadata": {},
   "outputs": [],
   "source": [
    "mul3=0\n",
    "mul5=0\n",
    "for f in range(10):\n",
    "    valor=int(input(\"Ingrese un valor:\"))\n",
    "    if valor%3==0:\n",
    "        mul3=mul3+1\n",
    "    if valor%5==0:\n",
    "        mul5=mul5+1\n",
    "print(\"Cantidad de valores ingresados múltiplos de 3\")\n",
    "print(mul3)\n",
    "print(\"Cantidad de valores ingresados múltiplos de 5\")\n",
    "print(mul5)"
   ]
  },
  {
   "cell_type": "markdown",
   "metadata": {},
   "source": [
    "### Ingresar n números enteros y calcular la cantidad de valores mayores o iguales a 1000"
   ]
  },
  {
   "cell_type": "code",
   "execution_count": 3,
   "metadata": {},
   "outputs": [
    {
     "name": "stdout",
     "output_type": "stream",
     "text": [
      "Cuantos valores ingresará:5\n",
      "Ingrese el valor:1250\n",
      "Ingrese el valor:999\n",
      "Ingrese el valor:3000\n",
      "Ingrese el valor:159\n",
      "Ingrese el valor:8965\n",
      "La cantidad de valores ingresados mayores o iguales a 1000 son\n",
      "3\n"
     ]
    }
   ],
   "source": [
    "cantidad=0\n",
    "n=int(input(\"Cuantos valores ingresará:\"))\n",
    "for f in range(n):\n",
    "    valor=int(input(\"Ingrese el valor:\"))\n",
    "    if valor>=1000:\n",
    "        cantidad=cantidad+1\n",
    "print(\"La cantidad de valores ingresados mayores o iguales a 1000 son\")\n",
    "print(cantidad)"
   ]
  },
  {
   "cell_type": "markdown",
   "metadata": {},
   "source": [
    "### Ingresar n cantidad de triangulos, calcular su superficie y determinar cuantos de ellos tienen sperficie mayor a 12"
   ]
  },
  {
   "cell_type": "code",
   "execution_count": 15,
   "metadata": {},
   "outputs": [
    {
     "name": "stdout",
     "output_type": "stream",
     "text": [
      "Cuantos triangulos va a ingresar: 4\n",
      "Ingrese el valor de la base8\n",
      "Ingrese el valor de la altura2\n",
      "Area del triangulo\n",
      "8.0\n",
      "Ingrese el valor de la base6\n",
      "Ingrese el valor de la altura10\n",
      "Area del triangulo\n",
      "30.0\n",
      "Ingrese el valor de la base30\n",
      "Ingrese el valor de la altura2\n",
      "Area del triangulo\n",
      "30.0\n",
      "Ingrese el valor de la base5\n",
      "Ingrese el valor de la altura9\n",
      "Area del triangulo\n",
      "22.5\n",
      "Cantidad de triangulos cuya area es mayor a 12\n",
      "3\n"
     ]
    }
   ],
   "source": [
    "num1=0\n",
    "n=int(input(\"Cuantos triangulos va a ingresar: \"))\n",
    "for f in range(n):\n",
    "    base= int(input(\"Ingrese el valor de la base\"))\n",
    "    altura= int(input(\"Ingrese el valor de la altura\"))\n",
    "    area=(base*altura)/2\n",
    "    print(\"Area del triangulo\")\n",
    "    print(area)\n",
    "    if area>12:\n",
    "        num1=num1+1\n",
    "        \n",
    "print(\"Cantidad de triangulos cuya area es mayor a 12\")\n",
    "print (num1)\n",
    "    "
   ]
  },
  {
   "cell_type": "code",
   "execution_count": null,
   "metadata": {},
   "outputs": [],
   "source": []
  },
  {
   "cell_type": "markdown",
   "metadata": {},
   "source": [
    "### Ingresar 10 números e imprima la suma de los últimos 5 valores ingresados"
   ]
  },
  {
   "cell_type": "code",
   "execution_count": 22,
   "metadata": {},
   "outputs": [
    {
     "name": "stdout",
     "output_type": "stream",
     "text": [
      "Ingrese un valor:8\n",
      "Ingrese un valor:8\n",
      "Ingrese un valor:8\n",
      "Ingrese un valor:8\n",
      "Ingrese un valor:5\n",
      "Ingrese un valor:5\n",
      "Ingrese un valor:5\n",
      "Ingrese un valor:5\n",
      "Ingrese un valor:5\n",
      "Ingrese un valor:5\n",
      "La suma es\n",
      "25\n"
     ]
    }
   ],
   "source": [
    "suma=0\n",
    "for f in range(10):\n",
    "    valor=int(input(\"Ingrese un valor:\"))\n",
    "    if f>4:\n",
    "        suma=suma+valor\n",
    "print(\"La suma es\")\n",
    "print(suma)\n",
    "    \n"
   ]
  },
  {
   "cell_type": "markdown",
   "metadata": {},
   "source": [
    "### Mostrar la tabla del 50"
   ]
  },
  {
   "cell_type": "code",
   "execution_count": 25,
   "metadata": {},
   "outputs": [
    {
     "name": "stdout",
     "output_type": "stream",
     "text": [
      "5\n",
      "10\n",
      "15\n",
      "20\n",
      "25\n",
      "30\n",
      "35\n",
      "40\n",
      "45\n",
      "50\n"
     ]
    }
   ],
   "source": [
    "for x in range(5,55,5):\n",
    "    print(x)"
   ]
  },
  {
   "cell_type": "markdown",
   "metadata": {},
   "source": [
    "### Mostrar la tabla de multiplicar del valor ingresado"
   ]
  },
  {
   "cell_type": "code",
   "execution_count": 30,
   "metadata": {
    "scrolled": true
   },
   "outputs": [
    {
     "name": "stdout",
     "output_type": "stream",
     "text": [
      "Ingrese la tabla de multiplicar:3\n",
      "3\n",
      "6\n",
      "9\n",
      "12\n",
      "15\n",
      "18\n",
      "21\n",
      "24\n",
      "27\n",
      "30\n",
      "33\n",
      "36\n"
     ]
    }
   ],
   "source": [
    "n=int(input(\"Ingrese la tabla de multiplicar:\"))\n",
    "tabla=n*13\n",
    "for f in range(n,tabla,n):\n",
    "    print(f)"
   ]
  },
  {
   "cell_type": "markdown",
   "metadata": {},
   "source": [
    "### Ingresar n triangulos y determinar si son isosceles, esquilateros o escalenos"
   ]
  },
  {
   "cell_type": "code",
   "execution_count": 33,
   "metadata": {},
   "outputs": [
    {
     "name": "stdout",
     "output_type": "stream",
     "text": [
      "Cuantos Triangulos va a ingresar: 4\n",
      "Ingrese el lado A:15\n",
      "Ingrese el lado B:15\n",
      "Ingrese el lado C:15\n",
      "Es un triangulo equilatero\n",
      "Ingrese el lado A:20\n",
      "Ingrese el lado B:25\n",
      "Ingrese el lado C:20\n",
      "Es un triangulo isosceles\n",
      "Ingrese el lado A:15\n",
      "Ingrese el lado B:87\n",
      "Ingrese el lado C:96\n",
      "Es un triangulo escaleno\n",
      "Ingrese el lado A:25\n",
      "Ingrese el lado B:25\n",
      "Ingrese el lado C:25\n",
      "Es un triangulo equilatero\n",
      "Triangulos equilateros\n",
      "2\n",
      "Triangulos isosceles\n",
      "1\n",
      "Triangulos escalenos\n",
      "1\n"
     ]
    }
   ],
   "source": [
    "cant1=0\n",
    "cant2=0\n",
    "cant3=0\n",
    "n=int(input(\"Cuantos Triangulos va a ingresar: \"))\n",
    "for f in range(n):\n",
    "    a=int(input(\"Ingrese el lado A:\"))\n",
    "    b=int(input(\"Ingrese el lado B:\"))\n",
    "    c=int(input(\"Ingrese el lado C:\"))\n",
    "    if a==b and a==c and b==c:\n",
    "        cant1=cant1+1\n",
    "        print(\"Es un triangulo equilatero\")\n",
    "    else:\n",
    "        if a==b or b==c or a==c:\n",
    "            cant2=cant2+1\n",
    "            print(\"Es un triangulo isosceles\")\n",
    "        else:\n",
    "            cant3=cant3+1\n",
    "            print(\"Es un triangulo escaleno\")\n",
    "\n",
    "print(\"Triangulos equilateros\")\n",
    "print(cant1)\n",
    "print(\"Triangulos isosceles\")\n",
    "print(cant2)\n",
    "print(\"Triangulos escalenos\")\n",
    "print(cant3)"
   ]
  },
  {
   "cell_type": "markdown",
   "metadata": {},
   "source": [
    "### Ingresar n numero de coordenadas X y Y luego determinar a que cuadrante pertenecen"
   ]
  },
  {
   "cell_type": "code",
   "execution_count": 3,
   "metadata": {},
   "outputs": [
    {
     "name": "stdout",
     "output_type": "stream",
     "text": [
      "Cuantas coordenadas va a ingresar: 5\n",
      "Ingrese la coordenada X: 9\n",
      "Ingrese la coordenada Y: 9\n",
      "Pertenece al primer cuadrante\n",
      "Ingrese la coordenada X: -9\n",
      "Ingrese la coordenada Y: 9\n",
      "Pertenece al segundo cuadrante\n",
      "Ingrese la coordenada X: -9\n",
      "Ingrese la coordenada Y: -9\n",
      "Pertenece al tercer cuadrante\n",
      "Ingrese la coordenada X: 9\n",
      "Ingrese la coordenada Y: -9\n",
      "Pertenece al cuarto cuadrante\n",
      "Ingrese la coordenada X: 9\n",
      "Ingrese la coordenada Y: 9\n",
      "Pertenece al primer cuadrante\n",
      "cantidad puntos que pertenecen al primer cuadrante\n",
      "2\n",
      "cantidad puntos que pertenecen al segundo cuadrante\n",
      "1\n",
      "cantidad puntos que pertenecen al tercer cuadrante\n",
      "1\n",
      "cantidad puntos que pertenecen al cuarto cuadrante\n",
      "1\n"
     ]
    }
   ],
   "source": [
    "i=0\n",
    "ii=0\n",
    "iii=0\n",
    "iv=0\n",
    "n=int(input(\"Cuantas coordenadas va a ingresar: \"))\n",
    "for f in range(n):\n",
    "    x=int(input(\"Ingrese la coordenada X: \"))\n",
    "    y=int(input(\"Ingrese la coordenada Y: \"))\n",
    "    \n",
    "    if x>0 and y>0:\n",
    "        print (\"Pertenece al primer cuadrante\")\n",
    "        i=i+1\n",
    "    else:\n",
    "        if x<0 and y>0:\n",
    "            print(\"Pertenece al segundo cuadrante\")\n",
    "            ii=ii+1\n",
    "        else:\n",
    "            if x<0 and y<0:\n",
    "                print(\"Pertenece al tercer cuadrante\")\n",
    "                iii=iii+1\n",
    "            else:\n",
    "                print(\"Pertenece al cuarto cuadrante\")\n",
    "                iv=iv+1\n",
    "                \n",
    "print(\"cantidad puntos que pertenecen al primer cuadrante\")\n",
    "print(i)\n",
    "print(\"cantidad puntos que pertenecen al segundo cuadrante\")\n",
    "print(ii)\n",
    "print(\"cantidad puntos que pertenecen al tercer cuadrante\")\n",
    "print(iii)\n",
    "print(\"cantidad puntos que pertenecen al cuarto cuadrante\")\n",
    "print(iv)\n",
    "\n"
   ]
  },
  {
   "cell_type": "markdown",
   "metadata": {},
   "source": [
    "### Ingresar 10 valores y determinar si son positivos, negativos o multiplos de 15"
   ]
  },
  {
   "cell_type": "code",
   "execution_count": 12,
   "metadata": {},
   "outputs": [
    {
     "name": "stdout",
     "output_type": "stream",
     "text": [
      "Ingrese un valor-30\n",
      "Ingrese un valor45\n",
      "Ingrese un valor-45\n",
      "Ingrese un valor60\n",
      "Ingrese un valor-3\n",
      "Ingrese un valor5\n",
      "Ingrese un valor15\n",
      "Ingrese un valor-6\n",
      "Ingrese un valor-75\n",
      "Ingrese un valor75\n",
      "Cantidad de numeros positivos\n",
      "5\n",
      "Cantidad de numeros negativos\n",
      "5\n",
      "Multiplos de 15\n",
      "7\n",
      "Valor acumulado\n",
      "24\n"
     ]
    }
   ],
   "source": [
    "negativos=0\n",
    "positivos=0\n",
    "multiplos=0\n",
    "vacumulado=0\n",
    "for f in range(10):\n",
    "    valor= int(input(\"Ingrese un valor\"))\n",
    "    if valor>0:\n",
    "        positivos=positivos+1\n",
    "    else:\n",
    "        if valor<0:\n",
    "            negativos=negativos+1\n",
    "            \n",
    "    if valor%15==0:\n",
    "        multiplos=multiplos+1\n",
    "    if valor%2==0:\n",
    "        vacumulado=vacumulado+valor\n",
    "\n",
    "print(\"Cantidad de numeros positivos\")\n",
    "print(positivos)\n",
    "print(\"Cantidad de numeros negativos\")\n",
    "print(negativos)\n",
    "print(\"Multiplos de 15\")\n",
    "print(multiplos)\n",
    "print(\"Valor acumulado\")\n",
    "print(vacumulado)\n",
    "\n",
    "        "
   ]
  },
  {
   "cell_type": "code",
   "execution_count": 12,
   "metadata": {},
   "outputs": [
    {
     "name": "stdout",
     "output_type": "stream",
     "text": [
      "Ingrese las edades del turno de la mañana7\n",
      "Ingrese las edades del turno de la mañana7\n",
      "Ingrese las edades del turno de la mañana7\n",
      "Ingrese las edades del turno de la mañana7\n",
      "Ingrese las edades del turno de la mañana7\n",
      "Promedio edad del turno de la mañana\n",
      "7.0\n",
      "Ingrese las edades del turno de la tarde5\n",
      "Ingrese las edades del turno de la tarde5\n",
      "Ingrese las edades del turno de la tarde5\n",
      "Ingrese las edades del turno de la tarde5\n",
      "Ingrese las edades del turno de la tarde5\n",
      "Ingrese las edades del turno de la tarde5\n",
      "Promedio edad del turno de la tarde\n",
      "5.0\n",
      "Ingrese las edades del turno de la noche9\n",
      "Ingrese las edades del turno de la noche9\n",
      "Ingrese las edades del turno de la noche9\n",
      "Ingrese las edades del turno de la noche9\n",
      "Ingrese las edades del turno de la noche9\n",
      "Ingrese las edades del turno de la noche9\n",
      "Ingrese las edades del turno de la noche9\n",
      "Ingrese las edades del turno de la noche9\n",
      "Ingrese las edades del turno de la noche9\n",
      "Ingrese las edades del turno de la noche9\n",
      "Ingrese las edades del turno de la noche9\n",
      "Promedio edad del turno de la noche\n",
      "9.0\n",
      "El turno de la noche tiene el promedio mas alto\n"
     ]
    }
   ],
   "source": [
    "tmañana=0\n",
    "ttarde=0\n",
    "tnoche=0\n",
    "for f in range(5):\n",
    "    edad=int(input(\"Ingrese las edades del turno de la mañana: \"))\n",
    "    tmañana=tmañana+edad\n",
    "prom1= tmañana/5\n",
    "print(\"Promedio edad del turno de la mañana\")\n",
    "print(prom1)\n",
    "\n",
    "for f in range(6):\n",
    "    edad=int(input(\"Ingrese las edades del turno de la tarde: \"))\n",
    "    ttarde=ttarde+edad\n",
    "prom2= ttarde/6\n",
    "print(\"Promedio edad del turno de la tarde\")\n",
    "print(prom2)\n",
    "\n",
    "for f in range(11):\n",
    "    edad=int(input(\"Ingrese las edades del turno de la noche: \"))\n",
    "    tnoche=tnoche+edad\n",
    "prom3= tnoche/11\n",
    "print(\"Promedio edad del turno de la noche\")\n",
    "print(prom3)\n",
    "\n",
    "if prom1>prom2 and prom1>prom3:\n",
    "    print(\"El turno de la mañana tiene el promedio mas alto\")\n",
    "else:\n",
    "    if prom2>prom3 and prom2>prom1:\n",
    "        print(\"El turno de la tarde tiene el promedio mas alto\")\n",
    "    else:\n",
    "        print(\"El turno de la noche tiene el promedio mas alto\")\n"
   ]
  },
  {
   "cell_type": "code",
   "execution_count": null,
   "metadata": {},
   "outputs": [],
   "source": []
  },
  {
   "cell_type": "code",
   "execution_count": null,
   "metadata": {},
   "outputs": [],
   "source": []
  }
 ],
 "metadata": {
  "kernelspec": {
   "display_name": "Python 3",
   "language": "python",
   "name": "python3"
  },
  "language_info": {
   "codemirror_mode": {
    "name": "ipython",
    "version": 3
   },
   "file_extension": ".py",
   "mimetype": "text/x-python",
   "name": "python",
   "nbconvert_exporter": "python",
   "pygments_lexer": "ipython3",
   "version": "3.7.4"
  }
 },
 "nbformat": 4,
 "nbformat_minor": 2
}
