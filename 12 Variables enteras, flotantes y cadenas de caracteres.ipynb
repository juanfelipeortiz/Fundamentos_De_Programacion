{
 "cells": [
  {
   "cell_type": "code",
   "execution_count": 2,
   "metadata": {},
   "outputs": [
    {
     "name": "stdout",
     "output_type": "stream",
     "text": [
      "Datos de la primer persona\n",
      "Ingrese nombre:Oscar\n",
      "Ingrese la edad:17\n",
      "Ingrese la altura Ej 1.75:1.73\n",
      "Datos de la segunda persona\n",
      "Ingrese nombre:Andres\n",
      "Ingrese la edad:18\n",
      "Ingrese la altura Ej 1.75:1.67\n",
      "La persona mas alta es:\n",
      "Oscar\n"
     ]
    }
   ],
   "source": [
    "print(\"Datos de la primer persona\")\n",
    "nombre1=input(\"Ingrese nombre:\")\n",
    "edad1=int(input(\"Ingrese la edad:\"))\n",
    "altura1=float(input(\"Ingrese la altura Ej 1.75:\"))\n",
    "print(\"Datos de la segunda persona\")\n",
    "nombre2=input(\"Ingrese nombre:\")\n",
    "edad2=int(input(\"Ingrese la edad:\"))\n",
    "altura2=float(input(\"Ingrese la altura Ej 1.75:\"))\n",
    "print(\"La persona mas alta es:\")\n",
    "if altura1>altura2:\n",
    "    print(nombre1)\n",
    "else:\n",
    "    print(nombre2)"
   ]
  },
  {
   "cell_type": "code",
   "execution_count": 3,
   "metadata": {},
   "outputs": [
    {
     "name": "stdout",
     "output_type": "stream",
     "text": [
      "Ingrese el primer nombre:oscar\n",
      "Ingrese el segundo nombre:julian\n",
      "oscar\n",
      "es mayor alfabeticamente\n"
     ]
    }
   ],
   "source": [
    "nombre1=input(\"Ingrese el primer nombre:\")\n",
    "nombre2=input(\"Ingrese el segundo nombre:\")\n",
    "if nombre1==nombre2:\n",
    "    print(\"Ingreso dos nombre iguales\")\n",
    "else:\n",
    "    if nombre1>nombre2:\n",
    "        print(nombre1)\n",
    "        print(\"es mayor alfabeticamente\")\n",
    "    else:\n",
    "        print(nombre2)\n",
    "        print(\"es mayor alfabeticamente\")"
   ]
  },
  {
   "cell_type": "code",
   "execution_count": 4,
   "metadata": {},
   "outputs": [
    {
     "name": "stdout",
     "output_type": "stream",
     "text": [
      "Ingrese un valor:5\n",
      "Desea cargar otro numero (si/no):si\n",
      "Ingrese un valor:7\n",
      "Desea cargar otro numero (si/no):si\n",
      "Ingrese un valor:8\n",
      "Desea cargar otro numero (si/no):si\n",
      "Ingrese un valor:9\n",
      "Desea cargar otro numero (si/no):no\n",
      "La suma de valores ingresados es\n",
      "29\n"
     ]
    }
   ],
   "source": [
    "opcion=\"si\"\n",
    "suma=0\n",
    "while opcion==\"si\":\n",
    "    valor=int(input(\"Ingrese un valor:\"))\n",
    "    suma=suma+valor\n",
    "    opcion=input(\"Desea cargar otro numero (si/no):\")\n",
    "print(\"La suma de valores ingresados es\")\n",
    "print(suma)"
   ]
  },
  {
   "cell_type": "code",
   "execution_count": 11,
   "metadata": {},
   "outputs": [
    {
     "name": "stdout",
     "output_type": "stream",
     "text": [
      "Ingrese el primer nombre:Felipe\n",
      "Ingrese el segundo nombre:Andres\n",
      "Andres\n",
      "Felipe\n"
     ]
    }
   ],
   "source": [
    "nombre1=input(\"Ingrese el primer nombre:\")\n",
    "nombre2=input(\"Ingrese el segundo nombre:\")\n",
    "if nombre1<nombre2:\n",
    "    print(nombre1)\n",
    "    print(nombre2)\n",
    "else:\n",
    "    print(nombre2)\n",
    "    print(nombre1)"
   ]
  },
  {
   "cell_type": "code",
   "execution_count": null,
   "metadata": {},
   "outputs": [],
   "source": []
  },
  {
   "cell_type": "code",
   "execution_count": null,
   "metadata": {},
   "outputs": [],
   "source": []
  }
 ],
 "metadata": {
  "kernelspec": {
   "display_name": "Python 3",
   "language": "python",
   "name": "python3"
  },
  "language_info": {
   "codemirror_mode": {
    "name": "ipython",
    "version": 3
   },
   "file_extension": ".py",
   "mimetype": "text/x-python",
   "name": "python",
   "nbconvert_exporter": "python",
   "pygments_lexer": "ipython3",
   "version": "3.7.4"
  }
 },
 "nbformat": 4,
 "nbformat_minor": 2
}
