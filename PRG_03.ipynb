{
 "cells": [
  {
   "cell_type": "code",
   "execution_count": null,
   "metadata": {},
   "outputs": [],
   "source": [
    "nota1=int(input(\"ingrese primer nota\"))\n",
    "nota2=int(input(\"ingrese segunda nota\"))\n",
    "nota3=int(input(\"ingrese tercer nota\"))\n",
    "prom=(nota1+nota2+nota3)/3\n",
    "if prom>=7:\n",
    "    print(\"promocionado\")\n",
    "else:\n",
    "    if prom>=4:\n",
    "        print(\"regular\")\n",
    "    else:\n",
    "            print(\"reprrobado\")"
   ]
  }
 ],
 "metadata": {
  "kernelspec": {
   "display_name": "Python 3",
   "language": "python",
   "name": "python3"
  },
  "language_info": {
   "codemirror_mode": {
    "name": "ipython",
    "version": 3
   },
   "file_extension": ".py",
   "mimetype": "text/x-python",
   "name": "python",
   "nbconvert_exporter": "python",
   "pygments_lexer": "ipython3",
   "version": "3.7.4"
  }
 },
 "nbformat": 4,
 "nbformat_minor": 2
}
