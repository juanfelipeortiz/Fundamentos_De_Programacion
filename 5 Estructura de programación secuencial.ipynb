{
 "cells": [
  {
   "cell_type": "markdown",
   "metadata": {},
   "source": [
    "# Estructura de programacion Secuencial"
   ]
  },
  {
   "cell_type": "markdown",
   "metadata": {},
   "source": [
    "### Mostrar la carga del precio de un producto y la cantidad a llevar y cuanto se debe pagar"
   ]
  },
  {
   "cell_type": "code",
   "execution_count": 2,
   "metadata": {},
   "outputs": [
    {
     "name": "stdout",
     "output_type": "stream",
     "text": [
      "Ingrese el precio del producto:7\n",
      "Ingrese la cantidad 5\n",
      "El importe a pagar es\n",
      "35\n"
     ]
    }
   ],
   "source": [
    "precio= int(input(\"Ingrese el precio del producto:\"))\n",
    "cantidad= int(input(\"Ingrese la cantidad \"))\n",
    "importe= precio*cantidad\n",
    "print(\"El importe a pagar es\")\n",
    "print(importe)\n"
   ]
  },
  {
   "cell_type": "markdown",
   "metadata": {},
   "source": [
    "### Realizar la carga del lado de un cuadrado y mostrar su perimetro."
   ]
  },
  {
   "cell_type": "code",
   "execution_count": 3,
   "metadata": {},
   "outputs": [
    {
     "name": "stdout",
     "output_type": "stream",
     "text": [
      "Ingrese el valor del lado del cuadrado5\n",
      "El perimetro del cuadrado es\n",
      "20\n"
     ]
    }
   ],
   "source": [
    "lado=int(input(\"Ingrese el valor del lado del cuadrado\"))\n",
    "perimetro= lado*4\n",
    "print(\"El perimetro del cuadrado es\")\n",
    "print(perimetro)"
   ]
  },
  {
   "cell_type": "markdown",
   "metadata": {},
   "source": [
    "### Ingresar 4 numeros y calcular la suma de los 2 primeros y el producto de los restantes."
   ]
  },
  {
   "cell_type": "code",
   "execution_count": 4,
   "metadata": {},
   "outputs": [
    {
     "name": "stdout",
     "output_type": "stream",
     "text": [
      "Ingrese el primer valor:8\n",
      "Ingrese el segundo valor:8\n",
      "Ingrese el tercer valor:8\n",
      "Ingrese el cuarto valor:8\n",
      "La suma del primer y segundo valor es\n",
      "16\n",
      "El producto del tercer y cuarto valor es\n",
      "64\n"
     ]
    }
   ],
   "source": [
    "num1= int(input(\"Ingrese el primer valor:\"))\n",
    "num2= int(input(\"Ingrese el segundo valor:\"))\n",
    "num3= int(input(\"Ingrese el tercer valor:\"))\n",
    "num4= int(input(\"Ingrese el cuarto valor:\"))\n",
    "\n",
    "suma= num1+num2\n",
    "producto= num3*num4\n",
    "print(\"La suma del primer y segundo valor es\")\n",
    "print(suma)\n",
    "print(\"El producto del tercer y cuarto valor es\")\n",
    "print(producto)"
   ]
  },
  {
   "cell_type": "markdown",
   "metadata": {},
   "source": [
    "### Ingresar 4 numeros y calcular su suma y promedio"
   ]
  },
  {
   "cell_type": "code",
   "execution_count": 6,
   "metadata": {},
   "outputs": [
    {
     "name": "stdout",
     "output_type": "stream",
     "text": [
      "Ingrese el primer valor:5\n",
      "Ingrese el segundo valor:5\n",
      "Ingrese el tercer valor:5\n",
      "Ingrese el cuarto valor:5\n",
      "La suma de los valores ingresados es\n",
      "20\n",
      "El promedio de los valores ingresados es\n",
      "5.0\n"
     ]
    }
   ],
   "source": [
    "num1= int(input(\"Ingrese el primer valor:\"))\n",
    "num2= int(input(\"Ingrese el segundo valor:\"))\n",
    "num3= int(input(\"Ingrese el tercer valor:\"))\n",
    "num4= int(input(\"Ingrese el cuarto valor:\"))\n",
    "suma= num1+num2+num3+num4\n",
    "promedio= suma/4\n",
    "print(\"La suma de los valores ingresados es\")\n",
    "print(suma)\n",
    "print(\"El promedio de los valores ingresados es\")\n",
    "print(promedio)"
   ]
  },
  {
   "cell_type": "markdown",
   "metadata": {},
   "source": [
    "### Calcular el salario mensual de un trabajador conociendo las horas trabajadas y el valor por hora"
   ]
  },
  {
   "cell_type": "code",
   "execution_count": 7,
   "metadata": {},
   "outputs": [
    {
     "name": "stdout",
     "output_type": "stream",
     "text": [
      "Ingrese la cantidad de horas trabajadas mensualmente:5\n",
      "Ingrese el valor por hora:5\n",
      "El sueldo mensual es\n",
      "25\n"
     ]
    }
   ],
   "source": [
    "horas= int(input(\"Ingrese la cantidad de horas trabajadas mensualmente:\"))\n",
    "valor= int(input(\"Ingrese el valor por hora:\"))\n",
    "sueldo= horas*valor\n",
    "print(\"El sueldo mensual es\")\n",
    "print(sueldo)"
   ]
  },
  {
   "cell_type": "code",
   "execution_count": null,
   "metadata": {},
   "outputs": [],
   "source": []
  }
 ],
 "metadata": {
  "kernelspec": {
   "display_name": "Python 3",
   "language": "python",
   "name": "python3"
  },
  "language_info": {
   "codemirror_mode": {
    "name": "ipython",
    "version": 3
   },
   "file_extension": ".py",
   "mimetype": "text/x-python",
   "name": "python",
   "nbconvert_exporter": "python",
   "pygments_lexer": "ipython3",
   "version": "3.7.4"
  }
 },
 "nbformat": 4,
 "nbformat_minor": 2
}
