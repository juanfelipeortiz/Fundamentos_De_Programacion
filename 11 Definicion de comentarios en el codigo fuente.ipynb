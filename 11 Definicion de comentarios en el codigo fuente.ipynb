{
 "cells": [
  {
   "cell_type": "code",
   "execution_count": 1,
   "metadata": {},
   "outputs": [
    {
     "name": "stdout",
     "output_type": "stream",
     "text": [
      "Tabla del 5 empleando el while\n",
      "5\n",
      "10\n",
      "15\n",
      "20\n",
      "25\n",
      "30\n",
      "35\n",
      "40\n",
      "45\n",
      "50\n",
      "Tabla del 5 empleando el for\n",
      "5\n",
      "10\n",
      "15\n",
      "20\n",
      "25\n",
      "30\n",
      "35\n",
      "40\n",
      "45\n",
      "50\n"
     ]
    }
   ],
   "source": [
    "\"\"\"\n",
    "Mostrar la tabla de 5 con las estructuras repetitivas:\n",
    "  while\n",
    "  y\n",
    "  for\n",
    "\"\"\"\n",
    "\n",
    "#utilizando el while\n",
    "print(\"Tabla del 5 empleando el while\")\n",
    "x=5\n",
    "while x<=50:\n",
    "    print(x)\n",
    "    x=x+5\n",
    "\n",
    "#utilizando el for\n",
    "print(\"Tabla del 5 empleando el for\")\n",
    "for x in range(5,51,5):\n",
    "    print(x)    "
   ]
  },
  {
   "cell_type": "code",
   "execution_count": 2,
   "metadata": {},
   "outputs": [
    {
     "name": "stdout",
     "output_type": "stream",
     "text": [
      "Ingrese un valor (-1 para finalizar): 5\n",
      "Ingrese el valor8\n",
      "Ingrese el valor9\n",
      "Ingrese el valor3\n",
      "Ingrese el valor8\n",
      "Ingrese el valor8\n",
      "Ingrese el valor-1\n",
      "La suma de los valores es:\n",
      "35\n"
     ]
    }
   ],
   "source": [
    "\"\"\"\n",
    "Realizar un programa que solicite la carga de valores enteros por teclado y los sume. \n",
    "Finalizar la carga al ingresar el valor -1\n",
    "\"\"\"\n",
    "suma=0\n",
    "num=int(input(\"Ingrese un valor (-1 para finalizar): \"))\n",
    "while num!=-1:\n",
    "    num=int(input(\"Ingrese el valor\"))\n",
    "    suma=suma+num\n",
    "print(\"La suma de los valores es:\")\n",
    "print(suma)"
   ]
  },
  {
   "cell_type": "code",
   "execution_count": 3,
   "metadata": {},
   "outputs": [
    {
     "name": "stdout",
     "output_type": "stream",
     "text": [
      "Ingrese el valor6\n",
      "Ingrese el valor8\n",
      "Ingrese el valor9\n",
      "Ingrese el valor7\n",
      "Ingrese el valor2\n",
      "Ingrese el valor5\n",
      "Ingrese el valor6\n",
      "Ingrese el valor8\n",
      "Ingrese el valor7\n",
      "Ingrese el valor8\n",
      "La suma de los valores es:\n",
      "66\n"
     ]
    }
   ],
   "source": [
    "\n",
    "#Nombre del programa: Suma de 10 valores reales\n",
    "#Programador: Oscar Julian Toro Delgado\n",
    "#ultima modificacion: 9/02/2020\n",
    "\n",
    "suma=0\n",
    "for f in range(10):\n",
    "    valor=int(input(\"Ingrese el valor\"))\n",
    "    suma=suma+valor\n",
    "print(\"La suma de los valores es:\")\n",
    "print(suma)"
   ]
  },
  {
   "cell_type": "code",
   "execution_count": null,
   "metadata": {},
   "outputs": [],
   "source": []
  }
 ],
 "metadata": {
  "kernelspec": {
   "display_name": "Python 3",
   "language": "python",
   "name": "python3"
  },
  "language_info": {
   "codemirror_mode": {
    "name": "ipython",
    "version": 3
   },
   "file_extension": ".py",
   "mimetype": "text/x-python",
   "name": "python",
   "nbconvert_exporter": "python",
   "pygments_lexer": "ipython3",
   "version": "3.7.4"
  }
 },
 "nbformat": 4,
 "nbformat_minor": 2
}
