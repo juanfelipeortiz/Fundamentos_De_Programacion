{
 "cells": [
  {
   "cell_type": "code",
   "execution_count": null,
   "metadata": {},
   "outputs": [],
   "source": [
    "### DECISIONES"
   ]
  },
  {
   "cell_type": "code",
   "execution_count": 1,
   "metadata": {},
   "outputs": [
    {
     "name": "stdout",
     "output_type": "stream",
     "text": [
      "ingrese primer valor2\n",
      "ingrese segundo valor3\n",
      "el valor mayor es\n",
      "3\n"
     ]
    }
   ],
   "source": [
    "num1=int(input(\"ingrese primer valor\"))\n",
    "num2=int(input(\"ingrese segundo valor\"))\n",
    "print(\"el valor mayor es\")\n",
    "if num1>num2:\n",
    "    print(num1)\n",
    "else:\n",
    "    print(num2)\n",
    "    "
   ]
  },
  {
   "cell_type": "code",
   "execution_count": null,
   "metadata": {},
   "outputs": [],
   "source": [
    "nombre=int(input(\"ingrese el nombre\"))\n"
   ]
  }
 ],
 "metadata": {
  "kernelspec": {
   "display_name": "Python 3",
   "language": "python",
   "name": "python3"
  },
  "language_info": {
   "codemirror_mode": {
    "name": "ipython",
    "version": 3
   },
   "file_extension": ".py",
   "mimetype": "text/x-python",
   "name": "python",
   "nbconvert_exporter": "python",
   "pygments_lexer": "ipython3",
   "version": "3.7.4"
  }
 },
 "nbformat": 4,
 "nbformat_minor": 2
}
