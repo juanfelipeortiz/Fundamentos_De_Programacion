{
 "cells": [
  {
   "cell_type": "markdown",
   "metadata": {},
   "source": [
    "### Imprimir los numeros del 1 al 100"
   ]
  },
  {
   "cell_type": "code",
   "execution_count": null,
   "metadata": {},
   "outputs": [],
   "source": [
    "x=0\n",
    "while x<=100:\n",
    "    print(x)\n",
    "    x=x+1"
   ]
  },
  {
   "cell_type": "markdown",
   "metadata": {},
   "source": [
    "### Ingresar un valor y contar de uno en uno hasta dicho valor"
   ]
  },
  {
   "cell_type": "code",
   "execution_count": null,
   "metadata": {},
   "outputs": [],
   "source": [
    "num1= int(input(\"Ingrese un valor: \"))\n",
    "x=0\n",
    "while x<num1:\n",
    "    x=x+1\n",
    "    print (x)"
   ]
  },
  {
   "cell_type": "markdown",
   "metadata": {},
   "source": [
    "### ingresar 10 valores y mostrar la suma de los valores ingresados y su promedio"
   ]
  },
  {
   "cell_type": "code",
   "execution_count": null,
   "metadata": {},
   "outputs": [],
   "source": [
    "x=1\n",
    "suma=0\n",
    "while x<=10:\n",
    "    valor=int(input(\"Ingrese un valor:\"))\n",
    "    suma=suma+valor\n",
    "    x=x+1\n",
    "promedio=suma/10\n",
    "print(\"La suma de los 10 valores es\")\n",
    "print(suma)\n",
    "print(\"El promedio es\")\n",
    "print(promedio)"
   ]
  },
  {
   "cell_type": "markdown",
   "metadata": {},
   "source": [
    "###  aaa"
   ]
  },
  {
   "cell_type": "code",
   "execution_count": null,
   "metadata": {},
   "outputs": [],
   "source": [
    "cantidad=0\n",
    "x=1\n",
    "n=int(input(\"Cuantas piezas cargara:\"))\n",
    "while x<=n:\n",
    "    largo=float(input(\"Ingrese la medida de la pieza:\"))\n",
    "    if largo>=1.2 and largo<=1.3:\n",
    "        cantidad=cantidad+1\n",
    "    x=x+1\n",
    "print(\"La cantidad de piezas aptas son\")\n",
    "print(cantidad)"
   ]
  },
  {
   "cell_type": "markdown",
   "metadata": {},
   "source": [
    "### ingresar 10 notas de alumnos e informar cuántos tienen notas mayores o iguales a 7 y cuántos menores."
   ]
  },
  {
   "cell_type": "code",
   "execution_count": null,
   "metadata": {},
   "outputs": [],
   "source": [
    "x=0\n",
    "notas=0\n",
    "notas2=0\n",
    "while x<10:\n",
    "    valor=float(input(\"Ingrese las notas:\"))\n",
    "    if valor>=7:\n",
    "        notas=notas+1  \n",
    "    else:\n",
    "        notas2=notas2+1\n",
    "    x=x+1\n",
    "        \n",
    "print(\"Cantidad de notas igual o mayores a 7\")\n",
    "print(notas)\n",
    "print(\"Cantidad de notas menores a 7\")\n",
    "print(notas2)"
   ]
  },
  {
   "cell_type": "markdown",
   "metadata": {},
   "source": [
    "### Ingresar n alturas y mostrar su promedio"
   ]
  },
  {
   "cell_type": "code",
   "execution_count": 2,
   "metadata": {},
   "outputs": [
    {
     "name": "stdout",
     "output_type": "stream",
     "text": [
      "Cuantas estaturas va a ingresar: 3\n",
      "Ingrese la estatura: 1.72\n",
      "Ingrese la estatura: 1.70\n",
      "Ingrese la estatura: 1.79\n",
      "Promedio de estaturas\n",
      "1.7366666666666666\n"
     ]
    }
   ],
   "source": [
    "x=0\n",
    "sumaest=0\n",
    "n=int(input(\"Cuantas estaturas va a ingresar: \"))\n",
    "while x<n:\n",
    "    estatura=float(input(\"Ingrese la estatura: \"))\n",
    "    sumaest=sumaest+estatura\n",
    "    x=x+1\n",
    "prom=sumaest/n\n",
    "print(\"Promedio de estaturas\")\n",
    "print(prom)"
   ]
  },
  {
   "cell_type": "code",
   "execution_count": 4,
   "metadata": {},
   "outputs": [
    {
     "ename": "SyntaxError",
     "evalue": "invalid syntax (<ipython-input-4-6d3d120039df>, line 12)",
     "output_type": "error",
     "traceback": [
      "\u001b[1;36m  File \u001b[1;32m\"<ipython-input-4-6d3d120039df>\"\u001b[1;36m, line \u001b[1;32m12\u001b[0m\n\u001b[1;33m    if generominÑ[0]=='F':\u001b[0m\n\u001b[1;37m                         ^\u001b[0m\n\u001b[1;31mSyntaxError\u001b[0m\u001b[1;31m:\u001b[0m invalid syntax\n"
     ]
    }
   ],
   "source": [
    "x=0\n",
    "estmasc=0\n",
    "estfem=0\n",
    "fem=0\n",
    "masc=0\n",
    "n=int(input(\"Cuantas estaturas va a ingresar: \"))\n",
    "while x<n:\n",
    "    genero=input(\"Ingrese genero, (F)Femenino, (M)Masculino : \")\n",
    "    generomin=genero.lower()\n",
    "    nombre=input(\"ingrese nombre: \")\n",
    "    estatura=float(input(\"Ingrese la estatura: \")\n",
    "    if generomin[0]=='F':\n",
    "        estfem=estfem+1\n",
    "    else:\n",
    "        if generomin=='M':\n",
    "            estmasc=estmasc+1\n",
    "                              \n",
    "x=x+1\n",
    "promestgrupo=(estfem+estmasc)/n\n",
    "prommasc=estatura/estmasc\n",
    "promfem=estatura/estfem\n",
    "print(\"El promedio de estatura del grupo es: \")\n",
    "print(promestgrupo)\n",
    "print(\"El promedio de los hombres es: \")\n",
    "print(prommasc)\n",
    "print(\"El promedio de las mujeres es: \")\n",
    "print(promfem)\n",
    "if prommasc>promfem:\n",
    "    print(\"El promedio mas alto es el de los hombres: \")\n",
    "    print(prommasc)\n",
    "else:\n",
    "    print(\"El promedio mas alto es de las mujeres: \")\n",
    "    print(promfem)\n"
   ]
  },
  {
   "cell_type": "markdown",
   "metadata": {},
   "source": [
    "### ingresar los sueldos que cobra cada empleado e informar cuántos empleados cobran entre 100 y 300 y cuantos mas de 300"
   ]
  },
  {
   "cell_type": "code",
   "execution_count": 2,
   "metadata": {},
   "outputs": [
    {
     "name": "stdout",
     "output_type": "stream",
     "text": [
      "Numero de empleados trabajando5\n",
      "Ingrese el sueldo250\n",
      "Ingrese el sueldo300\n",
      "Ingrese el sueldo450\n",
      "Ingrese el sueldo400\n",
      "Ingrese el sueldo357\n",
      "Empleados con sueldo entre 100 y 300\n",
      "2\n",
      "Empleados con sueldo de mas de 300\n",
      "3\n",
      "importe que gasta la empresa en sueldos al personal\n",
      "1207\n"
     ]
    }
   ],
   "source": [
    "n=int(input(\"Numero de empleados trabajando\"))\n",
    "x=0\n",
    "suma=0\n",
    "suma2=0\n",
    "importe=0\n",
    "while x<n:\n",
    "    sueldo=int(input(\"Ingrese el sueldo\"))\n",
    "    if sueldo>=100 and sueldo<=300:\n",
    "        suma=suma+1\n",
    "    else:\n",
    "        if sueldo>300:\n",
    "            suma2=suma2+1\n",
    "        importe=importe+sueldo \n",
    "    x=x+1\n",
    "print(\"Empleados con sueldo entre 100 y 300\")\n",
    "print(suma)\n",
    "print(\"Empleados con sueldo de mas de 300\")\n",
    "print(suma2)\n",
    "print(\"importe que gasta la empresa en sueldos al personal\")\n",
    "print(importe)\n",
    "            "
   ]
  },
  {
   "cell_type": "markdown",
   "metadata": {},
   "source": [
    "### imprimir 25 términos de la serie 11 - 22 - 33 - 44"
   ]
  },
  {
   "cell_type": "code",
   "execution_count": 4,
   "metadata": {},
   "outputs": [
    {
     "name": "stdout",
     "output_type": "stream",
     "text": [
      "11\n",
      "22\n",
      "33\n",
      "44\n",
      "55\n",
      "66\n",
      "77\n",
      "88\n",
      "99\n",
      "110\n",
      "121\n",
      "132\n",
      "143\n",
      "154\n",
      "165\n",
      "176\n",
      "187\n",
      "198\n",
      "209\n",
      "220\n",
      "231\n",
      "242\n",
      "253\n",
      "264\n",
      "275\n"
     ]
    }
   ],
   "source": [
    "x=1\n",
    "while x<=25:\n",
    "    print(x*11)\n",
    "    x=x+1"
   ]
  },
  {
   "cell_type": "markdown",
   "metadata": {},
   "source": [
    "### Mostrar los múltiplos de 8 hasta el valor 500"
   ]
  },
  {
   "cell_type": "code",
   "execution_count": 17,
   "metadata": {},
   "outputs": [
    {
     "name": "stdout",
     "output_type": "stream",
     "text": [
      "8\n",
      "16\n",
      "24\n",
      "32\n",
      "40\n",
      "48\n",
      "56\n",
      "64\n",
      "72\n",
      "80\n",
      "88\n",
      "96\n",
      "104\n",
      "112\n",
      "120\n",
      "128\n",
      "136\n",
      "144\n",
      "152\n",
      "160\n",
      "168\n",
      "176\n",
      "184\n",
      "192\n",
      "200\n",
      "208\n",
      "216\n",
      "224\n",
      "232\n",
      "240\n",
      "248\n",
      "256\n",
      "264\n",
      "272\n",
      "280\n",
      "288\n",
      "296\n",
      "304\n",
      "312\n",
      "320\n",
      "328\n",
      "336\n",
      "344\n",
      "352\n",
      "360\n",
      "368\n",
      "376\n",
      "384\n",
      "392\n",
      "400\n",
      "408\n",
      "416\n",
      "424\n",
      "432\n",
      "440\n",
      "448\n",
      "456\n",
      "464\n",
      "472\n",
      "480\n",
      "488\n",
      "496\n",
      "504\n"
     ]
    }
   ],
   "source": [
    "x=0\n",
    "while x<=500:\n",
    "    print(x+8)\n",
    "    x=x+8"
   ]
  },
  {
   "cell_type": "code",
   "execution_count": null,
   "metadata": {},
   "outputs": [],
   "source": []
  },
  {
   "cell_type": "code",
   "execution_count": 4,
   "metadata": {},
   "outputs": [
    {
     "name": "stdout",
     "output_type": "stream",
     "text": [
      "primer lista\n",
      "Ingrese un valor: 5\n",
      "5\n",
      "Ingrese un valor: 5\n",
      "10\n",
      "Ingrese un valor: 5\n",
      "15\n",
      "Ingrese un valor: 5\n",
      "20\n",
      "Ingrese un valor: 5\n",
      "25\n",
      "Ingrese un valor: 5\n",
      "30\n",
      "Ingrese un valor: 5\n",
      "35\n",
      "Ingrese un valor: 5\n",
      "40\n",
      "Ingrese un valor: 5\n",
      "45\n",
      "Ingrese un valor: 5\n",
      "50\n",
      "Ingrese un valor: 5\n",
      "55\n",
      "Ingrese un valor: 5\n",
      "60\n",
      "Ingrese un valor: 5\n",
      "65\n",
      "Ingrese un valor: 5\n",
      "70\n",
      "Ingrese un valor: 5\n",
      "75\n",
      "segunda lista\n",
      "Ingrese un valor: 5\n",
      "5\n",
      "Ingrese un valor: 5\n",
      "10\n",
      "Ingrese un valor: 5\n",
      "15\n",
      "Ingrese un valor: 5\n",
      "20\n",
      "Ingrese un valor: 5\n",
      "25\n",
      "Ingrese un valor: 5\n",
      "30\n",
      "Ingrese un valor: 5\n",
      "35\n",
      "Ingrese un valor: 5\n",
      "40\n",
      "Ingrese un valor: 5\n",
      "45\n",
      "Ingrese un valor: 5\n",
      "50\n",
      "Ingrese un valor: 5\n",
      "55\n",
      "Ingrese un valor: 5\n",
      "60\n",
      "Ingrese un valor: 5\n",
      "65\n",
      "Ingrese un valor: 5\n",
      "70\n",
      "Ingrese un valor: 5\n",
      "75\n",
      "Listas iguales\n"
     ]
    }
   ],
   "source": [
    "lista1=0\n",
    "lista2=0\n",
    "x=1\n",
    "print(\"primer lista\")\n",
    "while x<=15:\n",
    "    valor=int(input(\"Ingrese un valor: \"))\n",
    "    lista1=lista1+valor\n",
    "    print(lista1)\n",
    "    x=x+1\n",
    "print(\"segunda lista\")\n",
    "x=1\n",
    "while x<=15:\n",
    "    valor=int(input(\"Ingrese un valor: \"))\n",
    "    lista2=lista2+valor\n",
    "    print(lista2)\n",
    "    x=x+1\n",
    "\n",
    "if lista1>lista2:\n",
    "    print(\"Lista 1 mayor\")\n",
    "else:\n",
    "    if lista2>lista1:\n",
    "        print(\"Lista 2 mayor\")\n",
    "    else:\n",
    "        print(\"Listas iguales\")"
   ]
  },
  {
   "cell_type": "markdown",
   "metadata": {},
   "source": [
    "### Ingresar n números enteros y luego informar cuantos valores son pares y cuántos impares"
   ]
  },
  {
   "cell_type": "code",
   "execution_count": 3,
   "metadata": {},
   "outputs": [
    {
     "name": "stdout",
     "output_type": "stream",
     "text": [
      "Cuantos numeros va a ingresar: 5\n",
      "Ingrese un valor8\n",
      "Ingrese un valor6\n",
      "Ingrese un valor3\n",
      "Ingrese un valor2\n",
      "Ingrese un valor54\n",
      "Numeros pares\n",
      "4\n",
      "Numeros impares\n",
      "1\n"
     ]
    }
   ],
   "source": [
    "x=0\n",
    "pares=0\n",
    "impares=0\n",
    "n=int(input(\"Cuantos numeros va a ingresar: \"))\n",
    "while x<n:\n",
    "    valor=int(input(\"Ingrese un valor\"))\n",
    "    x=x+1\n",
    "    if valor%2==0:\n",
    "        pares=pares+1\n",
    "    else:\n",
    "        impares=impares+1\n",
    "        \n",
    "print(\"Numeros pares\")\n",
    "print(pares)\n",
    "print(\"Numeros impares\")\n",
    "print(impares)"
   ]
  },
  {
   "cell_type": "code",
   "execution_count": null,
   "metadata": {},
   "outputs": [],
   "source": []
  }
 ],
 "metadata": {
  "kernelspec": {
   "display_name": "Python 3",
   "language": "python",
   "name": "python3"
  },
  "language_info": {
   "codemirror_mode": {
    "name": "ipython",
    "version": 3
   },
   "file_extension": ".py",
   "mimetype": "text/x-python",
   "name": "python",
   "nbconvert_exporter": "python",
   "pygments_lexer": "ipython3",
   "version": "3.7.4"
  }
 },
 "nbformat": 4,
 "nbformat_minor": 2
}
