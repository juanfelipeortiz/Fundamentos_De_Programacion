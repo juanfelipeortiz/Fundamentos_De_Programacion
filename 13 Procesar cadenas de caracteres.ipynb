{
 "cells": [
  {
   "cell_type": "code",
   "execution_count": 1,
   "metadata": {},
   "outputs": [
    {
     "name": "stdout",
     "output_type": "stream",
     "text": [
      "j\n",
      "juan\n",
      "comienza con la letra j\n"
     ]
    }
   ],
   "source": [
    "nombre='juan'\n",
    "print(nombre[0])   #se imprime una j\n",
    "if nombre[0]==\"j\": #verificamos si el primer caracter del string es una j\n",
    "    print(nombre)\n",
    "    print(\"comienza con la letra j\")"
   ]
  },
  {
   "cell_type": "code",
   "execution_count": 2,
   "metadata": {},
   "outputs": [
    {
     "name": "stdout",
     "output_type": "stream",
     "text": [
      "Ingrese su nombre:Oscar\n",
      "Primer caracter\n",
      "O\n",
      "Cantidad de letras del nombre:\n",
      "5\n"
     ]
    }
   ],
   "source": [
    "nombre=input(\"Ingrese su nombre:\")\n",
    "print(\"Primer caracter\")\n",
    "print(nombre[0])\n",
    "print(\"Cantidad de letras del nombre:\")\n",
    "print(len(nombre))"
   ]
  },
  {
   "cell_type": "code",
   "execution_count": 5,
   "metadata": {},
   "outputs": [
    {
     "name": "stdout",
     "output_type": "stream",
     "text": [
      "Ingrese su nombre:ana\n",
      "El nombre ingresado comienza con vocal\n"
     ]
    }
   ],
   "source": [
    "nombre=input(\"Ingrese su nombre:\")\n",
    "if nombre[0]==\"a\" or nombre[0]==\"e\" or nombre[0]==\"i\" or nombre[0]==\"o\" or nombre[0]==\"u\":\n",
    "    print(\"El nombre ingresado comienza con vocal\")\n",
    "else:\n",
    "    print(\"El nombre ingresado no comienza con vocal\")"
   ]
  },
  {
   "cell_type": "code",
   "execution_count": 6,
   "metadata": {},
   "outputs": [
    {
     "name": "stdout",
     "output_type": "stream",
     "text": [
      "Ingrese un mail:oscarj5647@gmail.co,\n",
      "Contiene solo un caracter @ el mail ingresado\n"
     ]
    }
   ],
   "source": [
    "mail=input(\"Ingrese un mail:\")\n",
    "cantidad=0\n",
    "x=0\n",
    "while x<len(mail):\n",
    "    if mail[x]==\"@\":\n",
    "        cantidad=cantidad+1\n",
    "    x=x+1\n",
    "if cantidad==1:\n",
    "    print(\"Contiene solo un caracter @ el mail ingresado\")\n",
    "else:\n",
    "    print(\"Incorrecto\")"
   ]
  },
  {
   "cell_type": "code",
   "execution_count": 7,
   "metadata": {},
   "outputs": [
    {
     "name": "stdout",
     "output_type": "stream",
     "text": [
      "mAriA\n",
      "MARIA\n",
      "maria\n",
      "Maria\n"
     ]
    }
   ],
   "source": [
    "nombre1=\"mAriA\"\n",
    "print(nombre1)\n",
    "nombre2=nombre1.upper()\n",
    "print(nombre2)\n",
    "nombre3=nombre1.lower()\n",
    "print(nombre3)\n",
    "nombre4=nombre1.capitalize()\n",
    "print(nombre4)"
   ]
  },
  {
   "cell_type": "code",
   "execution_count": 9,
   "metadata": {},
   "outputs": [
    {
     "name": "stdout",
     "output_type": "stream",
     "text": [
      "Ingrese una oracion: hola mundo\n",
      "la cantidad de espacios en blanco es\n",
      "1\n"
     ]
    }
   ],
   "source": [
    "oracion=input(\"Ingrese una oracion: \")\n",
    "cantidad=0\n",
    "x=0\n",
    "while x<len(oracion):\n",
    "    if oracion[x]==\" \":\n",
    "        cantidad=cantidad+1\n",
    "    x=x+1\n",
    "\n",
    "print(\"la cantidad de espacios en blanco es\")\n",
    "print(cantidad)\n"
   ]
  },
  {
   "cell_type": "code",
   "execution_count": 10,
   "metadata": {},
   "outputs": [
    {
     "name": "stdout",
     "output_type": "stream",
     "text": [
      "Ingrese una oracion:Oscar Julian Toro Delgado\n",
      "La cantidad de vocales de la oracion son\n",
      "10\n"
     ]
    }
   ],
   "source": [
    "oracion=input(\"Ingrese una oracion:\")\n",
    "oracionmin=oracion.lower()\n",
    "cantidad=0\n",
    "x=0\n",
    "while x<len(oracionmin):\n",
    "    if oracionmin[x]==\"a\" or oracionmin[x]==\"e\" or oracionmin[x]==\"i\" or oracionmin[x]==\"o\" or oracionmin[x]==\"u\":\n",
    "        cantidad=cantidad+1\n",
    "    x=x+1\n",
    "print(\"La cantidad de vocales de la oracion son\")\n",
    "print(cantidad)"
   ]
  },
  {
   "cell_type": "code",
   "execution_count": 12,
   "metadata": {},
   "outputs": [
    {
     "name": "stdout",
     "output_type": "stream",
     "text": [
      "Ingrese una clave que tenga entre 10 y 20 caracteres:oscarj\n",
      "Largo incorrecto\n"
     ]
    }
   ],
   "source": [
    "clave=input(\"Ingrese una clave que tenga entre 10 y 20 caracteres:\")\n",
    "if len(clave)>=10 and len(clave)<=20:\n",
    "    print(\"Largo correcto\")\n",
    "else:\n",
    "    print(\"Largo incorrecto\")"
   ]
  },
  {
   "cell_type": "code",
   "execution_count": null,
   "metadata": {},
   "outputs": [],
   "source": []
  }
 ],
 "metadata": {
  "kernelspec": {
   "display_name": "Python 3",
   "language": "python",
   "name": "python3"
  },
  "language_info": {
   "codemirror_mode": {
    "name": "ipython",
    "version": 3
   },
   "file_extension": ".py",
   "mimetype": "text/x-python",
   "name": "python",
   "nbconvert_exporter": "python",
   "pygments_lexer": "ipython3",
   "version": "3.7.4"
  }
 },
 "nbformat": 4,
 "nbformat_minor": 2
}
