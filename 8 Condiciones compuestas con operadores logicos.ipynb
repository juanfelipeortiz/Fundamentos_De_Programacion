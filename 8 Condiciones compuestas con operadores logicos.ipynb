{
 "cells": [
  {
   "cell_type": "markdown",
   "metadata": {},
   "source": [
    "# 8 Condiciones compuestas con operadores lógicos"
   ]
  },
  {
   "cell_type": "markdown",
   "metadata": {},
   "source": [
    "### Ingresar 3 valores y mostrar el mayor"
   ]
  },
  {
   "cell_type": "code",
   "execution_count": 2,
   "metadata": {},
   "outputs": [
    {
     "name": "stdout",
     "output_type": "stream",
     "text": [
      "Ingrese primer valor:5\n",
      "Ingrese segundo valor:8\n",
      "Ingrese tercer valor:9\n",
      "El mayor de los tres valores es\n",
      "9\n"
     ]
    }
   ],
   "source": [
    "num1=int(input(\"Ingrese primer valor:\"))\n",
    "num2=int(input(\"Ingrese segundo valor:\"))\n",
    "num3=int(input(\"Ingrese tercer valor:\"))\n",
    "print(\"El mayor de los tres valores es\")\n",
    "if num1>num2 and num1>num3:\n",
    "    print(num1)\n",
    "else:\n",
    "    if num2>num3:\n",
    "        print(num2)\n",
    "    else:\n",
    "        print(num3)"
   ]
  },
  {
   "cell_type": "markdown",
   "metadata": {},
   "source": [
    "### Ingresar una fecha y determinar si corresponde al primer trimeste del año"
   ]
  },
  {
   "cell_type": "code",
   "execution_count": 2,
   "metadata": {},
   "outputs": [
    {
     "name": "stdout",
     "output_type": "stream",
     "text": [
      "Ingrese el día:3\n",
      "Ingrese el mes:5\n",
      "Ingrese el año:7\n"
     ]
    }
   ],
   "source": [
    "dia=int(input(\"Ingrese el día:\"))\n",
    "mes=int(input(\"Ingrese el mes:\"))\n",
    "año=int(input(\"Ingrese el año:\"))\n",
    "if mes==1 or mes==2 or mes==3:\n",
    "    print(\"Corresponde al primer trimestre\")\n"
   ]
  },
  {
   "cell_type": "markdown",
   "metadata": {},
   "source": [
    "### Ingresar una fecha y verificar si corresponde a navidad"
   ]
  },
  {
   "cell_type": "code",
   "execution_count": 4,
   "metadata": {},
   "outputs": [
    {
     "name": "stdout",
     "output_type": "stream",
     "text": [
      "Ingrese el dia:5\n",
      "Ingrese el mes:6\n",
      "Ingrese el año:7\n",
      "No corresponde a navidad\n"
     ]
    }
   ],
   "source": [
    "dia=int(input(\"Ingrese el dia:\"))\n",
    "mes=int(input(\"Ingrese el mes:\"))\n",
    "año=int(input(\"Ingrese el año:\"))\n",
    "\n",
    "if mes==12 and dia==24:\n",
    "    print(\"Esta fecha corresponde a navidad\")\n",
    "else:\n",
    "    print(\"No corresponde a navidad\")"
   ]
  },
  {
   "cell_type": "markdown",
   "metadata": {},
   "source": [
    "### Se ingresan 3 valores, si todos son iguales se imprime la suma del primero con el segundo y a este resultado se lo multiplica por el tercero"
   ]
  },
  {
   "cell_type": "code",
   "execution_count": 9,
   "metadata": {},
   "outputs": [
    {
     "name": "stdout",
     "output_type": "stream",
     "text": [
      "Ingrese primer valor:7\n",
      "Ingrese segundo valor:7\n",
      "Ingrese tercer valor:7\n",
      "98\n"
     ]
    }
   ],
   "source": [
    "num1=int(input(\"Ingrese primer valor:\"))\n",
    "num2=int(input(\"Ingrese segundo valor:\"))\n",
    "num3=int(input(\"Ingrese tercer valor:\"))\n",
    "\n",
    "if num1==num2==num3:\n",
    "    print ((num1+num2)*num3)"
   ]
  },
  {
   "cell_type": "markdown",
   "metadata": {},
   "source": [
    "### Ingresar 3 numeros y verificar si todos son menores a 10"
   ]
  },
  {
   "cell_type": "code",
   "execution_count": 12,
   "metadata": {},
   "outputs": [
    {
     "name": "stdout",
     "output_type": "stream",
     "text": [
      "Ingrese primer valor:8\n",
      "Ingrese segundo valor:4\n",
      "Ingrese tercer valor:3\n",
      "Todos los numeros son menores a diez\n"
     ]
    }
   ],
   "source": [
    "num1=int(input(\"Ingrese primer valor:\"))\n",
    "num2=int(input(\"Ingrese segundo valor:\"))\n",
    "num3=int(input(\"Ingrese tercer valor:\"))\n",
    "\n",
    "if num1<10 and num2<10 and num3<10:\n",
    "    print (\"Todos los numeros son menores a diez\")"
   ]
  },
  {
   "cell_type": "markdown",
   "metadata": {},
   "source": [
    "### Ingresar 3 numeros y verificar si almenos uno es menor a 10"
   ]
  },
  {
   "cell_type": "code",
   "execution_count": 18,
   "metadata": {},
   "outputs": [
    {
     "name": "stdout",
     "output_type": "stream",
     "text": [
      "Ingrese primer valor:59\n",
      "Ingrese segundo valor:57\n",
      "Ingrese tercer valor:2\n",
      "Alguno de los numeros es menor a diez\n"
     ]
    }
   ],
   "source": [
    "num1=int(input(\"Ingrese primer valor:\"))\n",
    "num2=int(input(\"Ingrese segundo valor:\"))\n",
    "num3=int(input(\"Ingrese tercer valor:\"))\n",
    "\n",
    "if num1<10 or num2<10 or num3<10:\n",
    "    print (\"Alguno de los numeros es menor a diez\")"
   ]
  },
  {
   "cell_type": "markdown",
   "metadata": {},
   "source": [
    "### Ingresar las coordenadas X y Y y determinar a que cuadrante pertenece"
   ]
  },
  {
   "cell_type": "code",
   "execution_count": 22,
   "metadata": {
    "scrolled": true
   },
   "outputs": [
    {
     "name": "stdout",
     "output_type": "stream",
     "text": [
      "Ingrese la coordenada X: 2\n",
      "Ingrese la coordenada Y: -4\n",
      "Las coordenadas correspondel al\n",
      "Cuarto Cuadrante\n"
     ]
    }
   ],
   "source": [
    "x= int(input(\"Ingrese la coordenada X: \"))\n",
    "y= int(input(\"Ingrese la coordenada Y: \"))\n",
    "print(\"Las coordenadas correspondel al\")\n",
    "\n",
    "if x>0 and y>0:\n",
    "    print(\"Primer cuadrante\")\n",
    "else:\n",
    "    if x<0 and y>0:\n",
    "        print (\"Segundo cuadrante\")\n",
    "    else:\n",
    "        if x<0 and y<0:\n",
    "            print(\"Tercer Cuadrante\")\n",
    "        else:\n",
    "            print(\"Cuarto Cuadrante\")"
   ]
  },
  {
   "cell_type": "code",
   "execution_count": 28,
   "metadata": {},
   "outputs": [
    {
     "name": "stdout",
     "output_type": "stream",
     "text": [
      "Ingrese su sueldo: 900\n",
      "Ingrese los años de antiguedad15\n",
      "900\n"
     ]
    }
   ],
   "source": [
    "sueldo= int(input(\"Ingrese su sueldo: \"))\n",
    "años= int(input(\"Ingrese los años de antiguedad\"))\n",
    "\n",
    "if sueldo<500 and años>=10:\n",
    "    print (\"Aumento del 20%\")\n",
    "    print ((sueldo*0.20)+sueldo)\n",
    "else:\n",
    "    if sueldo<500 and años<10:\n",
    "        print(\"Aumento del 5%\")\n",
    "        print ((sueldo*0.05)+sueldo)\n",
    "    else:\n",
    "        print(sueldo)\n",
    "    "
   ]
  },
  {
   "cell_type": "markdown",
   "metadata": {},
   "source": [
    "### Ingresar 3 valores y calcular el rango de variacion y determinar cual es el mayor"
   ]
  },
  {
   "cell_type": "code",
   "execution_count": null,
   "metadata": {},
   "outputs": [],
   "source": [
    "num1= int(input(\"Ingrese el primer valor\"))\n",
    "num2= int(input(\"Ingrese el primer valor\"))\n",
    "num3= int(input(\"Ingrese el primer valor\"))\n",
    "print (\"el numero mayor es\")\n",
    "if num1>num2>num3 or num1>num3>num2:\n",
    "    print (num1)\n",
    "    print(\"\")\n",
    "else:\n",
    "    if num2>num1>num3 or num2>num3>num1:\n",
    "        print(num2)\n",
    "    else:\n",
    "        if num3>num2>num1 or num3>num1>num2:\n",
    "            print(num3)"
   ]
  }
 ],
 "metadata": {
  "kernelspec": {
   "display_name": "Python 3",
   "language": "python",
   "name": "python3"
  },
  "language_info": {
   "codemirror_mode": {
    "name": "ipython",
    "version": 3
   },
   "file_extension": ".py",
   "mimetype": "text/x-python",
   "name": "python",
   "nbconvert_exporter": "python",
   "pygments_lexer": "ipython3",
   "version": "3.7.4"
  }
 },
 "nbformat": 4,
 "nbformat_minor": 2
}
