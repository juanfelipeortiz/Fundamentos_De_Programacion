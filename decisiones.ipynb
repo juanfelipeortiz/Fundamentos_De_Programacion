{
 "cells": [
  {
   "cell_type": "markdown",
   "metadata": {},
   "source": [
    "## DECISIONES "
   ]
  },
  {
   "cell_type": "code",
   "execution_count": null,
   "metadata": {},
   "outputs": [],
   "source": [
    "num1= int(input(\"Ingrese el primer valor\"))\n",
    "num2= int(input(\"Ingrese el segundo valor\"))\n",
    "print(\"El valor mayor es\")\n",
    "if num1>num2:\n",
    "    print(num1)\n",
    "else:\n",
    "    print(num2)"
   ]
  },
  {
   "cell_type": "code",
   "execution_count": 19,
   "metadata": {},
   "outputs": [
    {
     "name": "stdout",
     "output_type": "stream",
     "text": [
      "Ingrese nombre del estudianteOscar\n",
      "Ingrese nombre de la materiaMatematicas\n",
      "Ingrese la primer nota 3\n",
      "Ingrese la segunda nota 3\n",
      "Ingrese la tercer nota 3\n",
      "el estudiante:\n",
      "Oscar\n",
      "Aprobo\n",
      "Matematicas\n",
      "3.0\n"
     ]
    }
   ],
   "source": [
    "estudiante= input(\"Ingrese nombre del estudiante\")\n",
    "materia= input(\"Ingrese nombre de la materia\")\n",
    "nota1= int(input(\"Ingrese la primer nota \"))\n",
    "nota2= int(input(\"Ingrese la segunda nota \"))\n",
    "nota3= int(input(\"Ingrese la tercer nota \"))\n",
    "promedio= (nota1+nota2+nota3)/3\n",
    "print (\"el estudiante:\")\n",
    "if promedio>=3.0:\n",
    "    print(estudiante)\n",
    "    print(\"Aprobo\")\n",
    "    print(materia)\n",
    "    print (promedio)\n",
    "else:\n",
    "    print(estudiante)\n",
    "    print(\"Reprobo\")\n",
    "    print(materia)\n",
    "    print (promedio)\n",
    "      "
   ]
  },
  {
   "cell_type": "code",
   "execution_count": null,
   "metadata": {},
   "outputs": [],
   "source": []
  }
 ],
 "metadata": {
  "kernelspec": {
   "display_name": "Python 3",
   "language": "python",
   "name": "python3"
  },
  "language_info": {
   "codemirror_mode": {
    "name": "ipython",
    "version": 3
   },
   "file_extension": ".py",
   "mimetype": "text/x-python",
   "name": "python",
   "nbconvert_exporter": "python",
   "pygments_lexer": "ipython3",
   "version": "3.7.4"
  }
 },
 "nbformat": 4,
 "nbformat_minor": 2
}
